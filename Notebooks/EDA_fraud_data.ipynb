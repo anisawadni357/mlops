{
 "cells": [
  {
   "cell_type": "code",
   "execution_count": 1,
   "id": "927356fc",
   "metadata": {},
   "outputs": [],
   "source": [
    "import pandas as pd\n",
    "pd.options.display.max_columns = None\n",
    "import numpy as np\n",
    "import seaborn as sns\n",
    "import matplotlib.pyplot as plt\n",
    "sns.set(rc = {'figure.figsize':(30,40)})"
   ]
  },
  {
   "cell_type": "code",
   "execution_count": 2,
   "id": "82b66116",
   "metadata": {},
   "outputs": [
    {
     "ename": "FileNotFoundError",
     "evalue": "[Errno 2] No such file or directory: '../data/whole_fraud.csv'",
     "output_type": "error",
     "traceback": [
      "\u001B[1;31m---------------------------------------------------------------------------\u001B[0m",
      "\u001B[1;31mFileNotFoundError\u001B[0m                         Traceback (most recent call last)",
      "Cell \u001B[1;32mIn [2], line 1\u001B[0m\n\u001B[1;32m----> 1\u001B[0m df \u001B[38;5;241m=\u001B[39m \u001B[43mpd\u001B[49m\u001B[38;5;241;43m.\u001B[39;49m\u001B[43mread_csv\u001B[49m\u001B[43m(\u001B[49m\u001B[38;5;124;43m\"\u001B[39;49m\u001B[38;5;124;43m../data/whole_fraud.csv\u001B[39;49m\u001B[38;5;124;43m\"\u001B[39;49m\u001B[43m)\u001B[49m\n",
      "File \u001B[1;32m~\\AppData\\Local\\Programs\\Python\\Python310\\lib\\site-packages\\pandas\\util\\_decorators.py:211\u001B[0m, in \u001B[0;36mdeprecate_kwarg.<locals>._deprecate_kwarg.<locals>.wrapper\u001B[1;34m(*args, **kwargs)\u001B[0m\n\u001B[0;32m    209\u001B[0m     \u001B[38;5;28;01melse\u001B[39;00m:\n\u001B[0;32m    210\u001B[0m         kwargs[new_arg_name] \u001B[38;5;241m=\u001B[39m new_arg_value\n\u001B[1;32m--> 211\u001B[0m \u001B[38;5;28;01mreturn\u001B[39;00m func(\u001B[38;5;241m*\u001B[39margs, \u001B[38;5;241m*\u001B[39m\u001B[38;5;241m*\u001B[39mkwargs)\n",
      "File \u001B[1;32m~\\AppData\\Local\\Programs\\Python\\Python310\\lib\\site-packages\\pandas\\util\\_decorators.py:317\u001B[0m, in \u001B[0;36mdeprecate_nonkeyword_arguments.<locals>.decorate.<locals>.wrapper\u001B[1;34m(*args, **kwargs)\u001B[0m\n\u001B[0;32m    311\u001B[0m \u001B[38;5;28;01mif\u001B[39;00m \u001B[38;5;28mlen\u001B[39m(args) \u001B[38;5;241m>\u001B[39m num_allow_args:\n\u001B[0;32m    312\u001B[0m     warnings\u001B[38;5;241m.\u001B[39mwarn(\n\u001B[0;32m    313\u001B[0m         msg\u001B[38;5;241m.\u001B[39mformat(arguments\u001B[38;5;241m=\u001B[39marguments),\n\u001B[0;32m    314\u001B[0m         \u001B[38;5;167;01mFutureWarning\u001B[39;00m,\n\u001B[0;32m    315\u001B[0m         stacklevel\u001B[38;5;241m=\u001B[39mfind_stack_level(inspect\u001B[38;5;241m.\u001B[39mcurrentframe()),\n\u001B[0;32m    316\u001B[0m     )\n\u001B[1;32m--> 317\u001B[0m \u001B[38;5;28;01mreturn\u001B[39;00m func(\u001B[38;5;241m*\u001B[39margs, \u001B[38;5;241m*\u001B[39m\u001B[38;5;241m*\u001B[39mkwargs)\n",
      "File \u001B[1;32m~\\AppData\\Local\\Programs\\Python\\Python310\\lib\\site-packages\\pandas\\io\\parsers\\readers.py:950\u001B[0m, in \u001B[0;36mread_csv\u001B[1;34m(filepath_or_buffer, sep, delimiter, header, names, index_col, usecols, squeeze, prefix, mangle_dupe_cols, dtype, engine, converters, true_values, false_values, skipinitialspace, skiprows, skipfooter, nrows, na_values, keep_default_na, na_filter, verbose, skip_blank_lines, parse_dates, infer_datetime_format, keep_date_col, date_parser, dayfirst, cache_dates, iterator, chunksize, compression, thousands, decimal, lineterminator, quotechar, quoting, doublequote, escapechar, comment, encoding, encoding_errors, dialect, error_bad_lines, warn_bad_lines, on_bad_lines, delim_whitespace, low_memory, memory_map, float_precision, storage_options)\u001B[0m\n\u001B[0;32m    935\u001B[0m kwds_defaults \u001B[38;5;241m=\u001B[39m _refine_defaults_read(\n\u001B[0;32m    936\u001B[0m     dialect,\n\u001B[0;32m    937\u001B[0m     delimiter,\n\u001B[1;32m   (...)\u001B[0m\n\u001B[0;32m    946\u001B[0m     defaults\u001B[38;5;241m=\u001B[39m{\u001B[38;5;124m\"\u001B[39m\u001B[38;5;124mdelimiter\u001B[39m\u001B[38;5;124m\"\u001B[39m: \u001B[38;5;124m\"\u001B[39m\u001B[38;5;124m,\u001B[39m\u001B[38;5;124m\"\u001B[39m},\n\u001B[0;32m    947\u001B[0m )\n\u001B[0;32m    948\u001B[0m kwds\u001B[38;5;241m.\u001B[39mupdate(kwds_defaults)\n\u001B[1;32m--> 950\u001B[0m \u001B[38;5;28;01mreturn\u001B[39;00m \u001B[43m_read\u001B[49m\u001B[43m(\u001B[49m\u001B[43mfilepath_or_buffer\u001B[49m\u001B[43m,\u001B[49m\u001B[43m \u001B[49m\u001B[43mkwds\u001B[49m\u001B[43m)\u001B[49m\n",
      "File \u001B[1;32m~\\AppData\\Local\\Programs\\Python\\Python310\\lib\\site-packages\\pandas\\io\\parsers\\readers.py:605\u001B[0m, in \u001B[0;36m_read\u001B[1;34m(filepath_or_buffer, kwds)\u001B[0m\n\u001B[0;32m    602\u001B[0m _validate_names(kwds\u001B[38;5;241m.\u001B[39mget(\u001B[38;5;124m\"\u001B[39m\u001B[38;5;124mnames\u001B[39m\u001B[38;5;124m\"\u001B[39m, \u001B[38;5;28;01mNone\u001B[39;00m))\n\u001B[0;32m    604\u001B[0m \u001B[38;5;66;03m# Create the parser.\u001B[39;00m\n\u001B[1;32m--> 605\u001B[0m parser \u001B[38;5;241m=\u001B[39m TextFileReader(filepath_or_buffer, \u001B[38;5;241m*\u001B[39m\u001B[38;5;241m*\u001B[39mkwds)\n\u001B[0;32m    607\u001B[0m \u001B[38;5;28;01mif\u001B[39;00m chunksize \u001B[38;5;129;01mor\u001B[39;00m iterator:\n\u001B[0;32m    608\u001B[0m     \u001B[38;5;28;01mreturn\u001B[39;00m parser\n",
      "File \u001B[1;32m~\\AppData\\Local\\Programs\\Python\\Python310\\lib\\site-packages\\pandas\\io\\parsers\\readers.py:1442\u001B[0m, in \u001B[0;36mTextFileReader.__init__\u001B[1;34m(self, f, engine, **kwds)\u001B[0m\n\u001B[0;32m   1439\u001B[0m     \u001B[38;5;28mself\u001B[39m\u001B[38;5;241m.\u001B[39moptions[\u001B[38;5;124m\"\u001B[39m\u001B[38;5;124mhas_index_names\u001B[39m\u001B[38;5;124m\"\u001B[39m] \u001B[38;5;241m=\u001B[39m kwds[\u001B[38;5;124m\"\u001B[39m\u001B[38;5;124mhas_index_names\u001B[39m\u001B[38;5;124m\"\u001B[39m]\n\u001B[0;32m   1441\u001B[0m \u001B[38;5;28mself\u001B[39m\u001B[38;5;241m.\u001B[39mhandles: IOHandles \u001B[38;5;241m|\u001B[39m \u001B[38;5;28;01mNone\u001B[39;00m \u001B[38;5;241m=\u001B[39m \u001B[38;5;28;01mNone\u001B[39;00m\n\u001B[1;32m-> 1442\u001B[0m \u001B[38;5;28mself\u001B[39m\u001B[38;5;241m.\u001B[39m_engine \u001B[38;5;241m=\u001B[39m \u001B[38;5;28;43mself\u001B[39;49m\u001B[38;5;241;43m.\u001B[39;49m\u001B[43m_make_engine\u001B[49m\u001B[43m(\u001B[49m\u001B[43mf\u001B[49m\u001B[43m,\u001B[49m\u001B[43m \u001B[49m\u001B[38;5;28;43mself\u001B[39;49m\u001B[38;5;241;43m.\u001B[39;49m\u001B[43mengine\u001B[49m\u001B[43m)\u001B[49m\n",
      "File \u001B[1;32m~\\AppData\\Local\\Programs\\Python\\Python310\\lib\\site-packages\\pandas\\io\\parsers\\readers.py:1729\u001B[0m, in \u001B[0;36mTextFileReader._make_engine\u001B[1;34m(self, f, engine)\u001B[0m\n\u001B[0;32m   1727\u001B[0m     is_text \u001B[38;5;241m=\u001B[39m \u001B[38;5;28;01mFalse\u001B[39;00m\n\u001B[0;32m   1728\u001B[0m     mode \u001B[38;5;241m=\u001B[39m \u001B[38;5;124m\"\u001B[39m\u001B[38;5;124mrb\u001B[39m\u001B[38;5;124m\"\u001B[39m\n\u001B[1;32m-> 1729\u001B[0m \u001B[38;5;28mself\u001B[39m\u001B[38;5;241m.\u001B[39mhandles \u001B[38;5;241m=\u001B[39m \u001B[43mget_handle\u001B[49m\u001B[43m(\u001B[49m\n\u001B[0;32m   1730\u001B[0m \u001B[43m    \u001B[49m\u001B[43mf\u001B[49m\u001B[43m,\u001B[49m\n\u001B[0;32m   1731\u001B[0m \u001B[43m    \u001B[49m\u001B[43mmode\u001B[49m\u001B[43m,\u001B[49m\n\u001B[0;32m   1732\u001B[0m \u001B[43m    \u001B[49m\u001B[43mencoding\u001B[49m\u001B[38;5;241;43m=\u001B[39;49m\u001B[38;5;28;43mself\u001B[39;49m\u001B[38;5;241;43m.\u001B[39;49m\u001B[43moptions\u001B[49m\u001B[38;5;241;43m.\u001B[39;49m\u001B[43mget\u001B[49m\u001B[43m(\u001B[49m\u001B[38;5;124;43m\"\u001B[39;49m\u001B[38;5;124;43mencoding\u001B[39;49m\u001B[38;5;124;43m\"\u001B[39;49m\u001B[43m,\u001B[49m\u001B[43m \u001B[49m\u001B[38;5;28;43;01mNone\u001B[39;49;00m\u001B[43m)\u001B[49m\u001B[43m,\u001B[49m\n\u001B[0;32m   1733\u001B[0m \u001B[43m    \u001B[49m\u001B[43mcompression\u001B[49m\u001B[38;5;241;43m=\u001B[39;49m\u001B[38;5;28;43mself\u001B[39;49m\u001B[38;5;241;43m.\u001B[39;49m\u001B[43moptions\u001B[49m\u001B[38;5;241;43m.\u001B[39;49m\u001B[43mget\u001B[49m\u001B[43m(\u001B[49m\u001B[38;5;124;43m\"\u001B[39;49m\u001B[38;5;124;43mcompression\u001B[39;49m\u001B[38;5;124;43m\"\u001B[39;49m\u001B[43m,\u001B[49m\u001B[43m \u001B[49m\u001B[38;5;28;43;01mNone\u001B[39;49;00m\u001B[43m)\u001B[49m\u001B[43m,\u001B[49m\n\u001B[0;32m   1734\u001B[0m \u001B[43m    \u001B[49m\u001B[43mmemory_map\u001B[49m\u001B[38;5;241;43m=\u001B[39;49m\u001B[38;5;28;43mself\u001B[39;49m\u001B[38;5;241;43m.\u001B[39;49m\u001B[43moptions\u001B[49m\u001B[38;5;241;43m.\u001B[39;49m\u001B[43mget\u001B[49m\u001B[43m(\u001B[49m\u001B[38;5;124;43m\"\u001B[39;49m\u001B[38;5;124;43mmemory_map\u001B[39;49m\u001B[38;5;124;43m\"\u001B[39;49m\u001B[43m,\u001B[49m\u001B[43m \u001B[49m\u001B[38;5;28;43;01mFalse\u001B[39;49;00m\u001B[43m)\u001B[49m\u001B[43m,\u001B[49m\n\u001B[0;32m   1735\u001B[0m \u001B[43m    \u001B[49m\u001B[43mis_text\u001B[49m\u001B[38;5;241;43m=\u001B[39;49m\u001B[43mis_text\u001B[49m\u001B[43m,\u001B[49m\n\u001B[0;32m   1736\u001B[0m \u001B[43m    \u001B[49m\u001B[43merrors\u001B[49m\u001B[38;5;241;43m=\u001B[39;49m\u001B[38;5;28;43mself\u001B[39;49m\u001B[38;5;241;43m.\u001B[39;49m\u001B[43moptions\u001B[49m\u001B[38;5;241;43m.\u001B[39;49m\u001B[43mget\u001B[49m\u001B[43m(\u001B[49m\u001B[38;5;124;43m\"\u001B[39;49m\u001B[38;5;124;43mencoding_errors\u001B[39;49m\u001B[38;5;124;43m\"\u001B[39;49m\u001B[43m,\u001B[49m\u001B[43m \u001B[49m\u001B[38;5;124;43m\"\u001B[39;49m\u001B[38;5;124;43mstrict\u001B[39;49m\u001B[38;5;124;43m\"\u001B[39;49m\u001B[43m)\u001B[49m\u001B[43m,\u001B[49m\n\u001B[0;32m   1737\u001B[0m \u001B[43m    \u001B[49m\u001B[43mstorage_options\u001B[49m\u001B[38;5;241;43m=\u001B[39;49m\u001B[38;5;28;43mself\u001B[39;49m\u001B[38;5;241;43m.\u001B[39;49m\u001B[43moptions\u001B[49m\u001B[38;5;241;43m.\u001B[39;49m\u001B[43mget\u001B[49m\u001B[43m(\u001B[49m\u001B[38;5;124;43m\"\u001B[39;49m\u001B[38;5;124;43mstorage_options\u001B[39;49m\u001B[38;5;124;43m\"\u001B[39;49m\u001B[43m,\u001B[49m\u001B[43m \u001B[49m\u001B[38;5;28;43;01mNone\u001B[39;49;00m\u001B[43m)\u001B[49m\u001B[43m,\u001B[49m\n\u001B[0;32m   1738\u001B[0m \u001B[43m\u001B[49m\u001B[43m)\u001B[49m\n\u001B[0;32m   1739\u001B[0m \u001B[38;5;28;01massert\u001B[39;00m \u001B[38;5;28mself\u001B[39m\u001B[38;5;241m.\u001B[39mhandles \u001B[38;5;129;01mis\u001B[39;00m \u001B[38;5;129;01mnot\u001B[39;00m \u001B[38;5;28;01mNone\u001B[39;00m\n\u001B[0;32m   1740\u001B[0m f \u001B[38;5;241m=\u001B[39m \u001B[38;5;28mself\u001B[39m\u001B[38;5;241m.\u001B[39mhandles\u001B[38;5;241m.\u001B[39mhandle\n",
      "File \u001B[1;32m~\\AppData\\Local\\Programs\\Python\\Python310\\lib\\site-packages\\pandas\\io\\common.py:857\u001B[0m, in \u001B[0;36mget_handle\u001B[1;34m(path_or_buf, mode, encoding, compression, memory_map, is_text, errors, storage_options)\u001B[0m\n\u001B[0;32m    852\u001B[0m \u001B[38;5;28;01melif\u001B[39;00m \u001B[38;5;28misinstance\u001B[39m(handle, \u001B[38;5;28mstr\u001B[39m):\n\u001B[0;32m    853\u001B[0m     \u001B[38;5;66;03m# Check whether the filename is to be opened in binary mode.\u001B[39;00m\n\u001B[0;32m    854\u001B[0m     \u001B[38;5;66;03m# Binary mode does not support 'encoding' and 'newline'.\u001B[39;00m\n\u001B[0;32m    855\u001B[0m     \u001B[38;5;28;01mif\u001B[39;00m ioargs\u001B[38;5;241m.\u001B[39mencoding \u001B[38;5;129;01mand\u001B[39;00m \u001B[38;5;124m\"\u001B[39m\u001B[38;5;124mb\u001B[39m\u001B[38;5;124m\"\u001B[39m \u001B[38;5;129;01mnot\u001B[39;00m \u001B[38;5;129;01min\u001B[39;00m ioargs\u001B[38;5;241m.\u001B[39mmode:\n\u001B[0;32m    856\u001B[0m         \u001B[38;5;66;03m# Encoding\u001B[39;00m\n\u001B[1;32m--> 857\u001B[0m         handle \u001B[38;5;241m=\u001B[39m \u001B[38;5;28;43mopen\u001B[39;49m\u001B[43m(\u001B[49m\n\u001B[0;32m    858\u001B[0m \u001B[43m            \u001B[49m\u001B[43mhandle\u001B[49m\u001B[43m,\u001B[49m\n\u001B[0;32m    859\u001B[0m \u001B[43m            \u001B[49m\u001B[43mioargs\u001B[49m\u001B[38;5;241;43m.\u001B[39;49m\u001B[43mmode\u001B[49m\u001B[43m,\u001B[49m\n\u001B[0;32m    860\u001B[0m \u001B[43m            \u001B[49m\u001B[43mencoding\u001B[49m\u001B[38;5;241;43m=\u001B[39;49m\u001B[43mioargs\u001B[49m\u001B[38;5;241;43m.\u001B[39;49m\u001B[43mencoding\u001B[49m\u001B[43m,\u001B[49m\n\u001B[0;32m    861\u001B[0m \u001B[43m            \u001B[49m\u001B[43merrors\u001B[49m\u001B[38;5;241;43m=\u001B[39;49m\u001B[43merrors\u001B[49m\u001B[43m,\u001B[49m\n\u001B[0;32m    862\u001B[0m \u001B[43m            \u001B[49m\u001B[43mnewline\u001B[49m\u001B[38;5;241;43m=\u001B[39;49m\u001B[38;5;124;43m\"\u001B[39;49m\u001B[38;5;124;43m\"\u001B[39;49m\u001B[43m,\u001B[49m\n\u001B[0;32m    863\u001B[0m \u001B[43m        \u001B[49m\u001B[43m)\u001B[49m\n\u001B[0;32m    864\u001B[0m     \u001B[38;5;28;01melse\u001B[39;00m:\n\u001B[0;32m    865\u001B[0m         \u001B[38;5;66;03m# Binary mode\u001B[39;00m\n\u001B[0;32m    866\u001B[0m         handle \u001B[38;5;241m=\u001B[39m \u001B[38;5;28mopen\u001B[39m(handle, ioargs\u001B[38;5;241m.\u001B[39mmode)\n",
      "\u001B[1;31mFileNotFoundError\u001B[0m: [Errno 2] No such file or directory: '../data/whole_fraud.csv'"
     ]
    }
   ],
   "source": [
    "df = pd.read_csv(\"../data/whole_fraud.csv\")"
   ]
  },
  {
   "cell_type": "markdown",
   "id": "628a4a71",
   "metadata": {},
   "source": [
    "**Data Description**\n",
    "* **index** - Unique Identifier for each row\n",
    "* **transdatetrans_time** - Transaction DateTime\n",
    "* **cc_num** - Credit Card Number of Customer\n",
    "* **merchant** - Merchant Name\n",
    "* **category** - Category of Merchant\n",
    "* **amt** - Amount of Transaction\n",
    "* **first** - First Name of Credit Card Holder\n",
    "* **last** - Last Name of Credit Card Holder\n",
    "* **gender** - Gender of Credit Card Holder\n",
    "* **street** - Street Address of Credit Card Holder\n",
    "* **city** - City of Credit Card Holder\n",
    "* **state** - State of Credit Card Holder\n",
    "* **zip** - Zip of Credit Card Holder\n",
    "* **lat** - Latitude Location of Credit Card Holder\n",
    "* **long** - Longitude Location of Credit Card Holder\n",
    "* **city_pop** - Credit Card Holder's City Population\n",
    "* **job** - Job of Credit Card Holder\n",
    "* **dob** - Date of Birth of Credit Card Holder\n",
    "* **trans_num** - Transaction Number\n",
    "* **unix_time** - UNIX Time of transaction\n",
    "* **merch_lat** - Latitude Location of Merchant\n",
    "* **merch_long** - Longitude Location of Merchant\n",
    "* **is_fraud** - Fraud Flag <--- Target Class\n"
   ]
  },
  {
   "cell_type": "code",
   "execution_count": null,
   "id": "1ccac1e9",
   "metadata": {},
   "outputs": [],
   "source": [
    "df.shape"
   ]
  },
  {
   "cell_type": "code",
   "execution_count": null,
   "id": "460c4ad7",
   "metadata": {},
   "outputs": [],
   "source": [
    "df.head(3)"
   ]
  },
  {
   "cell_type": "code",
   "execution_count": null,
   "id": "f96cb4b9",
   "metadata": {},
   "outputs": [],
   "source": [
    "df.info()"
   ]
  },
  {
   "cell_type": "code",
   "execution_count": null,
   "id": "1bcd5618",
   "metadata": {},
   "outputs": [],
   "source": [
    "#check if there is any missing values\n",
    "df.isnull().sum().sum()"
   ]
  },
  {
   "cell_type": "code",
   "execution_count": null,
   "id": "471bd1a8",
   "metadata": {},
   "outputs": [],
   "source": [
    "def transform_col_todate(df,col_names):\n",
    "    for col in col_names:\n",
    "        #convert trans_date_trans_time , dob to datetime\n",
    "        df[col] = pd.to_datetime(df[col])\n",
    "    return df"
   ]
  },
  {
   "cell_type": "code",
   "execution_count": null,
   "id": "7dfe6f49",
   "metadata": {},
   "outputs": [],
   "source": [
    "col_todate=[\"trans_date_trans_time\",\"dob\"]\n",
    "df =  transform_col_todate(df,col_todate)"
   ]
  },
  {
   "cell_type": "code",
   "execution_count": null,
   "id": "1151e968",
   "metadata": {},
   "outputs": [],
   "source": [
    "#create new columns day,month,year\n",
    "df[\"year\"]=df[\"trans_date_trans_time\"].dt.year\n",
    "df[\"month\"]=df[\"trans_date_trans_time\"].dt.month\n",
    "df[\"day\"]=df[\"trans_date_trans_time\"].dt.day"
   ]
  },
  {
   "cell_type": "code",
   "execution_count": null,
   "id": "17113ae1",
   "metadata": {},
   "outputs": [],
   "source": [
    "#Extract month_name,day_name\n",
    "df[\"month_name\"]=df[\"trans_date_trans_time\"].dt.month_name()\n",
    "df[\"day_name\"]=df[\"trans_date_trans_time\"].dt.day_name()"
   ]
  },
  {
   "cell_type": "code",
   "execution_count": null,
   "id": "af4cd5cd",
   "metadata": {},
   "outputs": [],
   "source": [
    "#Extract hour,minute and second\n",
    "df[\"hour\"]=df[\"trans_date_trans_time\"].dt.hour\n",
    "df[\"month\"]=df[\"trans_date_trans_time\"].dt.month\n",
    "df[\"sec\"]=df[\"trans_date_trans_time\"].dt.second"
   ]
  },
  {
   "cell_type": "markdown",
   "id": "d312f712",
   "metadata": {},
   "source": [
    "**Let's start to examine how different features relate to the target column (fraud)**"
   ]
  },
  {
   "cell_type": "markdown",
   "id": "314afcf8",
   "metadata": {},
   "source": [
    "## 1. Relation between transaction amount and fraud :"
   ]
  },
  {
   "cell_type": "code",
   "execution_count": null,
   "id": "0209f677",
   "metadata": {},
   "outputs": [],
   "source": [
    "#let's check the distribution of the amount transaction col\n",
    "df.amt.describe().round()"
   ]
  },
  {
   "cell_type": "code",
   "execution_count": null,
   "id": "8500e539",
   "metadata": {},
   "outputs": [],
   "source": [
    "#99 percentile\n",
    "np.percentile(df.amt , 99)"
   ]
  },
  {
   "cell_type": "markdown",
   "id": "b00f82a5",
   "metadata": {},
   "source": [
    "**The 99 percentile here is around 546$**"
   ]
  },
  {
   "cell_type": "code",
   "execution_count": null,
   "id": "37dc7062",
   "metadata": {},
   "outputs": [],
   "source": [
    "from IPython.display import Image\n",
    "Image(filename=\"images/FIG 6 Example.jpg\")"
   ]
  },
  {
   "cell_type": "code",
   "execution_count": null,
   "id": "d47a0283",
   "metadata": {},
   "outputs": [],
   "source": [
    "#we substracted the data with amount transaction less than 1000 to get more readable graph\n",
    "ax=sns.histplot(x='amt',data=df[df.amt<=1000],hue='is_fraud',stat='probability',multiple='dodge',common_norm=False,bins=25)\n",
    "ax.set_ylabel(\"Percentage in Each Type\")\n",
    "ax.set_xlabel(\"Transaction Amount in USD\")"
   ]
  },
  {
   "cell_type": "markdown",
   "id": "04a2d615",
   "metadata": {},
   "source": [
    "**The result is very interesting! While normal transactions tend to be around 200 USD or less, we see fraudulent transactions peak around 300 USD and then at the 800 USD -1000 USD range. There is a very clear pattern here!**"
   ]
  },
  {
   "cell_type": "markdown",
   "id": "c46d0ef2",
   "metadata": {},
   "source": [
    "## 2. Relation between Gender and fraud :"
   ]
  },
  {
   "cell_type": "code",
   "execution_count": null,
   "id": "04173410",
   "metadata": {},
   "outputs": [],
   "source": [
    "#Gender vs Fraud\n",
    "ax=sns.histplot(x='gender',data=df, hue='is_fraud',stat='probability',multiple='dodge',common_norm=False)\n",
    "ax.set_ylabel('Percentage')\n",
    "ax.set_xlabel('Credit Card Holder Gender')"
   ]
  },
  {
   "cell_type": "markdown",
   "id": "91bf5d35",
   "metadata": {},
   "source": [
    "**In this case, we do not see a clear difference between both genders. Data seem to suggest that females and males are almost equally susceptible (50%) to transaction fraud. Gender is not very indicative of a fraudulent transaction.**"
   ]
  },
  {
   "cell_type": "markdown",
   "id": "3da5eca6",
   "metadata": {},
   "source": [
    "## 3. Relation between Spending category and fraud :"
   ]
  },
  {
   "cell_type": "markdown",
   "id": "8c53d7d6",
   "metadata": {},
   "source": [
    "Now, we will examine in which spending categories fraud happens most predominantly. To do this, we first calculate the distribution in normal transactions and then the the distribution in fraudulent activities. The difference between the 2 distributions will demonstrate which category is most susceptible to fraud."
   ]
  },
  {
   "cell_type": "code",
   "execution_count": null,
   "id": "2c1d500f",
   "metadata": {},
   "outputs": [],
   "source": [
    "#calculate the percentage difference\n",
    "a=df[df['is_fraud']==0]['category'].value_counts(normalize=True).to_frame().reset_index()\n",
    "a.columns=['category','not fraud percentage']\n",
    "\n",
    "b=df[df['is_fraud']==1]['category'].value_counts(normalize=True).to_frame().reset_index()\n",
    "b.columns=['category','fraud percentage']\n",
    "ab=a.merge(b,on='category')\n",
    "ab['diff']=ab['fraud percentage']-ab['not fraud percentage']\n",
    "\n",
    "ax=sns.barplot(y='category',x='diff',data=ab.sort_values('diff',ascending=False))\n",
    "ax.set_xlabel('Percentage Difference')\n",
    "ax.set_ylabel('Transaction Category')\n",
    "plt.title('The Percentage Difference of Fraudulent over Non-Fraudulent Transations in Each Spending Category ')"
   ]
  },
  {
   "cell_type": "markdown",
   "id": "569bedb5",
   "metadata": {},
   "source": [
    "**Some spending categories indeed see more fraud than others! Fraud tends to happen more often in Shopping_net', 'Grocery_pos'and 'misc_net' while 'home' and 'kids_pets' among others tend to see more normal transactions than fraudulent ones.**"
   ]
  },
  {
   "cell_type": "markdown",
   "id": "39203f60",
   "metadata": {},
   "source": [
    "## 4. Relation between age and fraud :"
   ]
  },
  {
   "cell_type": "code",
   "execution_count": null,
   "id": "09506a88",
   "metadata": {},
   "outputs": [],
   "source": [
    "#age vs fraud\n",
    "import datetime as dt\n",
    "df['age']=dt.date.today().year-pd.to_datetime(df['dob']).dt.year\n",
    "ax=sns.kdeplot(x='age',data=df, hue='is_fraud', common_norm=False)\n",
    "ax.set_xlabel('Credit Card Holder Age')\n",
    "ax.set_ylabel('Density')\n",
    "plt.xticks(np.arange(0,110,5))\n",
    "plt.title('Age Distribution in Fraudulent vs Non-Fraudulent Transactions')\n",
    "plt.legend(title='Type', labels=['Fraud', 'Not Fraud'])"
   ]
  },
  {
   "cell_type": "markdown",
   "id": "22dee2ca",
   "metadata": {},
   "source": [
    " **In normal transactions, there are 2 peaks at the age of 37-38 and 49-50, while in fraudulent transactions, the age distribution is a little smoother and the second peak does include a wider age group from 50-65. This does suggest that older people are potentially more prone to fraud.**"
   ]
  },
  {
   "cell_type": "markdown",
   "id": "c7d6558b",
   "metadata": {},
   "source": [
    "## 5. Cyclicality of Credit Card Fraud:"
   ]
  },
  {
   "cell_type": "markdown",
   "id": "4b381d2c",
   "metadata": {},
   "source": [
    "How do fraudulent transactions distribute on the temporal spectrum? Is there an hourly, monthly, or seasonal trend? We can use the transaction time column to answer this question."
   ]
  },
  {
   "cell_type": "markdown",
   "id": "e3ce8a74",
   "metadata": {},
   "source": [
    "### Hourly trend :"
   ]
  },
  {
   "cell_type": "code",
   "execution_count": null,
   "id": "6f011324",
   "metadata": {},
   "outputs": [],
   "source": [
    "ax=sns.histplot(data=df, x=\"hour\", hue=\"is_fraud\", common_norm=False,stat='probability',multiple='dodge')\n",
    "ax.set_ylabel('Percentage')\n",
    "ax.set_xlabel('Time (Hour) in a Day')\n",
    "plt.xticks(np.arange(0,24,1))\n",
    "plt.show()"
   ]
  },
  {
   "cell_type": "markdown",
   "id": "bc23d12b",
   "metadata": {},
   "source": [
    "**There is a clear pattern ! While normal transactions distribute more or less equally throughout the day, fraudulent payments happen disproportionately around midnight when most people are asleep!**"
   ]
  },
  {
   "cell_type": "markdown",
   "id": "0bc05c16",
   "metadata": {},
   "source": [
    "### Weekly trend :"
   ]
  },
  {
   "cell_type": "code",
   "execution_count": null,
   "id": "d99992bc",
   "metadata": {},
   "outputs": [],
   "source": [
    "ax=sns.histplot(data=df, x=\"day_name\", hue=\"is_fraud\", common_norm=False,stat='probability',multiple='dodge')\n",
    "ax.set_ylabel('Percentage')\n",
    "ax.set_xlabel('day name')"
   ]
  },
  {
   "cell_type": "markdown",
   "id": "e265f647",
   "metadata": {},
   "source": [
    "**Normal transactions tend to happen more often on Monday and Sunday while fraudulent ones tend to spread out more evenly throughout the week.**"
   ]
  },
  {
   "cell_type": "markdown",
   "id": "ec013717",
   "metadata": {},
   "source": [
    "### Monthly trend :"
   ]
  },
  {
   "cell_type": "code",
   "execution_count": null,
   "id": "0c28f745",
   "metadata": {},
   "outputs": [],
   "source": [
    "ax=sns.histplot(data=df, x=\"month_name\", hue=\"is_fraud\", common_norm=False,stat='probability',multiple='dodge')\n",
    "ax.set_ylabel('Percentage')\n",
    "ax.set_xlabel('month name')\n",
    "plt.show()"
   ]
  },
  {
   "cell_type": "markdown",
   "id": "74fec031",
   "metadata": {},
   "source": [
    "**Very interesting results! While normal payments peak around December (Christmas), and then late spring to early summer, fraudulent transactions are more concentrated in Jan-May. There is a clear seasonal trend.**"
   ]
  },
  {
   "cell_type": "markdown",
   "id": "dfdcf205",
   "metadata": {},
   "source": [
    "### Yearly trend :"
   ]
  },
  {
   "cell_type": "code",
   "execution_count": null,
   "id": "f03f3cab",
   "metadata": {},
   "outputs": [],
   "source": [
    "d19 = df[df[\"year\"]==2019][\"is_fraud\"].to_frame()"
   ]
  },
  {
   "cell_type": "code",
   "execution_count": null,
   "id": "70006448",
   "metadata": {},
   "outputs": [],
   "source": [
    "perc_frau_2019= (d19.value_counts()[1]/len(d19))*100"
   ]
  },
  {
   "cell_type": "code",
   "execution_count": null,
   "id": "7b0e4f8c",
   "metadata": {},
   "outputs": [],
   "source": [
    "perc_frau_2019"
   ]
  },
  {
   "cell_type": "code",
   "execution_count": null,
   "id": "9ec141b3",
   "metadata": {},
   "outputs": [],
   "source": [
    "ax = sns.countplot(x=\"is_fraud\", data=d19)"
   ]
  },
  {
   "cell_type": "code",
   "execution_count": null,
   "id": "900bfa51",
   "metadata": {},
   "outputs": [],
   "source": [
    "d20 = df[df[\"year\"]==2020][\"is_fraud\"].to_frame()"
   ]
  },
  {
   "cell_type": "code",
   "execution_count": null,
   "id": "73879d88",
   "metadata": {},
   "outputs": [],
   "source": [
    "perc_frau_2020= (d20.value_counts()[1]/len(d20))*100"
   ]
  },
  {
   "cell_type": "code",
   "execution_count": null,
   "id": "a5a52021",
   "metadata": {},
   "outputs": [],
   "source": [
    "perc_frau_2020"
   ]
  },
  {
   "cell_type": "code",
   "execution_count": null,
   "id": "a1723da1",
   "metadata": {},
   "outputs": [],
   "source": [
    "ax = sns.countplot(x=\"is_fraud\", data=d20)"
   ]
  },
  {
   "cell_type": "markdown",
   "id": "23bf229a",
   "metadata": {},
   "source": [
    "**The percentage of fraud transaction in 2020 is higher than how it was in 2019**"
   ]
  }
 ],
 "metadata": {
  "kernelspec": {
   "display_name": "Python 3 (ipykernel)",
   "language": "python",
   "name": "python3"
  },
  "language_info": {
   "codemirror_mode": {
    "name": "ipython",
    "version": 3
   },
   "file_extension": ".py",
   "mimetype": "text/x-python",
   "name": "python",
   "nbconvert_exporter": "python",
   "pygments_lexer": "ipython3",
   "version": "3.9.13"
  },
  "vscode": {
   "interpreter": {
    "hash": "f47cee5ce7f0e86d1697bc830ef64d3cfed3ed1d870feb222f972fa9d7058365"
   }
  }
 },
 "nbformat": 4,
 "nbformat_minor": 5
}
