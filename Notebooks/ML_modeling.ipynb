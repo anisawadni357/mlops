{
 "cells": [
  {
   "cell_type": "code",
   "execution_count": 4,
   "id": "3bdd7a8a",
   "metadata": {},
   "outputs": [],
   "source": [
    "import pandas as pd\n",
    "import seaborn as sns\n",
    "from imblearn.over_sampling import SMOTE\n",
    "from sklearn.linear_model import LogisticRegression\n",
    "from sklearn.metrics import confusion_matrix, classification_report\n",
    "from sklearn.ensemble import RandomForestClassifier\n",
    "from sklearn.metrics import precision_recall_fscore_support as score\n",
    "import mlflow\n",
    "import datetime\n",
    "import pickle\n",
    "import warnings\n",
    "warnings.filterwarnings(\"ignore\")"
   ]
  },
  {
   "cell_type": "code",
   "execution_count": 5,
   "id": "f5d47d75",
   "metadata": {},
   "outputs": [],
   "source": [
    "version = \"v1.0\"\n",
    "data_url = \"../data/fraud_v1.csv\""
   ]
  },
  {
   "cell_type": "code",
   "execution_count": 6,
   "id": "a85411bf",
   "metadata": {},
   "outputs": [],
   "source": [
    "import sys  \n",
    "sys.path.insert(0, '../backend/src')\n",
    "\n",
    "import data_preprocessing"
   ]
  },
  {
   "cell_type": "code",
   "execution_count": 7,
   "id": "35d4e51a",
   "metadata": {},
   "outputs": [],
   "source": [
    "from data_preprocessing import transform_data"
   ]
  },
  {
   "cell_type": "code",
   "execution_count": 8,
   "id": "9488c0a7",
   "metadata": {},
   "outputs": [],
   "source": [
    "import os\n",
    "os.environ['MLFLOW_TRACKING_USERNAME']= \"tarekbouzayani\"\n",
    "os.environ[\"MLFLOW_TRACKING_PASSWORD\"] =\"953d55f6731f17bbec5039cbe833f0c68c32a09e\" "
   ]
  },
  {
   "cell_type": "code",
   "execution_count": 9,
   "id": "cd0d7176",
   "metadata": {},
   "outputs": [],
   "source": [
    "#setup mlflow\n",
    "mlflow.set_tracking_uri('https://dagshub.com/tarekbouzayani/DataScienceGInfo3.mlflow') #your mlfow tracking uri "
   ]
  },
  {
   "cell_type": "code",
   "execution_count": 10,
   "id": "1e6f9826",
   "metadata": {},
   "outputs": [],
   "source": [
    "#read the data\n",
    "df = pd.read_csv(data_url)"
   ]
  },
  {
   "cell_type": "code",
   "execution_count": 11,
   "id": "5d9db258",
   "metadata": {},
   "outputs": [],
   "source": [
    "#cleaning and preprocessing\n",
    "X_train,X_test,y_train,y_test = transform_data(df)"
   ]
  },
  {
   "cell_type": "code",
   "execution_count": 12,
   "id": "f6f34340",
   "metadata": {},
   "outputs": [
    {
     "data": {
      "text/plain": "         amt  gender       zip      lat     long  merch_lat  merch_long  year  \\\n78689  98.21       1  0.331882  26.5290 -82.0916  26.755882  -82.439298   0.0   \n76423   6.01       1  0.290309  33.6028 -81.9748  32.867139  -82.648669   0.0   \n86945   2.62       1  0.457067  39.9347 -86.1633  38.937676  -85.222318   0.0   \n\n       month       day      hour       sec       age  category_entertainment  \\\n78689    1.0  0.500000  0.521739  0.338983  0.358025                       0   \n76423    1.0  0.433333  0.826087  1.000000  0.777778                       0   \n86945    1.0  0.633333  0.739130  0.322034  0.222222                       0   \n\n       category_food_dining  category_gas_transport  category_grocery_net  \\\n78689                     0                       0                     0   \n76423                     0                       0                     0   \n86945                     0                       0                     0   \n\n       category_grocery_pos  category_health_fitness  category_home  \\\n78689                     0                        1              0   \n76423                     0                        0              0   \n86945                     0                        0              0   \n\n       category_kids_pets  category_misc_net  category_misc_pos  \\\n78689                   0                  0                  0   \n76423                   0                  0                  0   \n86945                   0                  0                  1   \n\n       category_personal_care  category_shopping_net  category_shopping_pos  \\\n78689                       0                      0                      0   \n76423                       0                      0                      0   \n86945                       0                      0                      0   \n\n       category_travel  \n78689                0  \n76423                1  \n86945                0  ",
      "text/html": "<div>\n<style scoped>\n    .dataframe tbody tr th:only-of-type {\n        vertical-align: middle;\n    }\n\n    .dataframe tbody tr th {\n        vertical-align: top;\n    }\n\n    .dataframe thead th {\n        text-align: right;\n    }\n</style>\n<table border=\"1\" class=\"dataframe\">\n  <thead>\n    <tr style=\"text-align: right;\">\n      <th></th>\n      <th>amt</th>\n      <th>gender</th>\n      <th>zip</th>\n      <th>lat</th>\n      <th>long</th>\n      <th>merch_lat</th>\n      <th>merch_long</th>\n      <th>year</th>\n      <th>month</th>\n      <th>day</th>\n      <th>hour</th>\n      <th>sec</th>\n      <th>age</th>\n      <th>category_entertainment</th>\n      <th>category_food_dining</th>\n      <th>category_gas_transport</th>\n      <th>category_grocery_net</th>\n      <th>category_grocery_pos</th>\n      <th>category_health_fitness</th>\n      <th>category_home</th>\n      <th>category_kids_pets</th>\n      <th>category_misc_net</th>\n      <th>category_misc_pos</th>\n      <th>category_personal_care</th>\n      <th>category_shopping_net</th>\n      <th>category_shopping_pos</th>\n      <th>category_travel</th>\n    </tr>\n  </thead>\n  <tbody>\n    <tr>\n      <th>78689</th>\n      <td>98.21</td>\n      <td>1</td>\n      <td>0.331882</td>\n      <td>26.5290</td>\n      <td>-82.0916</td>\n      <td>26.755882</td>\n      <td>-82.439298</td>\n      <td>0.0</td>\n      <td>1.0</td>\n      <td>0.500000</td>\n      <td>0.521739</td>\n      <td>0.338983</td>\n      <td>0.358025</td>\n      <td>0</td>\n      <td>0</td>\n      <td>0</td>\n      <td>0</td>\n      <td>0</td>\n      <td>1</td>\n      <td>0</td>\n      <td>0</td>\n      <td>0</td>\n      <td>0</td>\n      <td>0</td>\n      <td>0</td>\n      <td>0</td>\n      <td>0</td>\n    </tr>\n    <tr>\n      <th>76423</th>\n      <td>6.01</td>\n      <td>1</td>\n      <td>0.290309</td>\n      <td>33.6028</td>\n      <td>-81.9748</td>\n      <td>32.867139</td>\n      <td>-82.648669</td>\n      <td>0.0</td>\n      <td>1.0</td>\n      <td>0.433333</td>\n      <td>0.826087</td>\n      <td>1.000000</td>\n      <td>0.777778</td>\n      <td>0</td>\n      <td>0</td>\n      <td>0</td>\n      <td>0</td>\n      <td>0</td>\n      <td>0</td>\n      <td>0</td>\n      <td>0</td>\n      <td>0</td>\n      <td>0</td>\n      <td>0</td>\n      <td>0</td>\n      <td>0</td>\n      <td>1</td>\n    </tr>\n    <tr>\n      <th>86945</th>\n      <td>2.62</td>\n      <td>1</td>\n      <td>0.457067</td>\n      <td>39.9347</td>\n      <td>-86.1633</td>\n      <td>38.937676</td>\n      <td>-85.222318</td>\n      <td>0.0</td>\n      <td>1.0</td>\n      <td>0.633333</td>\n      <td>0.739130</td>\n      <td>0.322034</td>\n      <td>0.222222</td>\n      <td>0</td>\n      <td>0</td>\n      <td>0</td>\n      <td>0</td>\n      <td>0</td>\n      <td>0</td>\n      <td>0</td>\n      <td>0</td>\n      <td>0</td>\n      <td>1</td>\n      <td>0</td>\n      <td>0</td>\n      <td>0</td>\n      <td>0</td>\n    </tr>\n  </tbody>\n</table>\n</div>"
     },
     "execution_count": 12,
     "metadata": {},
     "output_type": "execute_result"
    }
   ],
   "source": [
    "X_train.head(3)"
   ]
  },
  {
   "cell_type": "markdown",
   "id": "9d8b7ad9",
   "metadata": {},
   "source": [
    "# Resolve imbalanced data problem:"
   ]
  },
  {
   "cell_type": "markdown",
   "id": "79643cff",
   "metadata": {},
   "source": [
    "**Before moving forward to Machine Learning modeling , we need to handle the problem of unbalanced data, this is very common with fraud data, there is always the issue of class imbalance where actual fraud cases are way fewer than normal cases and constitute only a very small part of the dataset.**"
   ]
  },
  {
   "cell_type": "markdown",
   "id": "871ad4a8",
   "metadata": {},
   "source": [
    "**For this purpose we will be using SMOTE(Synthetic Minority Oversampling Technique) which is a statistical technique for increasing the number of cases in your dataset in a balanced way. The component works by generating new instances from existing minority cases that you supply as input. This implementation of SMOTE does not change the number of majority cases.**\n",
    "\n",
    "**The new instances are not just copies of existing minority cases. Instead, the algorithm takes samples of the feature space for each target class and its nearest neighbors. The algorithm then generates new examples that combine features of the target case with features of its neighbors. This approach increases the features available to each class and makes the samples more general.**"
   ]
  },
  {
   "cell_type": "code",
   "execution_count": null,
   "id": "ccde1d0a",
   "metadata": {},
   "outputs": [],
   "source": [
    "from IPython.display import Image\n",
    "Image(filename=\"images/smote.png\")"
   ]
  },
  {
   "cell_type": "code",
   "execution_count": null,
   "id": "24c5c1e7",
   "metadata": {},
   "outputs": [],
   "source": [
    "method= SMOTE()\n",
    "X_resampled, y_resampled = method.fit_resample(X_train, y_train)"
   ]
  },
  {
   "cell_type": "markdown",
   "id": "f0aa4375",
   "metadata": {},
   "source": [
    "# 2. Machine Learning Modeling :"
   ]
  },
  {
   "cell_type": "markdown",
   "id": "fefb9aa1",
   "metadata": {},
   "source": [
    "## 1. Logistic Regression :\n",
    "Logistic Regression : It is used in classification use cases where we\n",
    "want to predict a discrete target ( for example whether something is true\n",
    "or false). It catches the relationship between the target variable ( class\n",
    "column in our case ) and the independant features ( clump thickness ,\n",
    "sizeUniformity .. ) by fitting our data with the Sigmoid function."
   ]
  },
  {
   "cell_type": "markdown",
   "source": [
    "Image(filename=\"images/lg.png\")"
   ],
   "metadata": {
    "collapsed": false
   }
  },
  {
   "cell_type": "code",
   "execution_count": null,
   "id": "802e97e7",
   "metadata": {},
   "outputs": [],
   "source": [
    "#!pip install mlflow"
   ]
  },
  {
   "cell_type": "code",
   "execution_count": null,
   "id": "8bb1aece",
   "metadata": {},
   "outputs": [],
   "source": [
    "mlflow.set_experiment(\"my-experiment\")"
   ]
  },
  {
   "cell_type": "code",
   "execution_count": null,
   "id": "70eba953",
   "metadata": {},
   "outputs": [],
   "source": [
    "mlflow.sklearn.autolog(registered_model_name=\"LogisticRegression\")"
   ]
  },
  {
   "cell_type": "code",
   "execution_count": null,
   "id": "5d9487ab",
   "metadata": {},
   "outputs": [],
   "source": [
    "RUN_NAME = \"LogisticRegression\"\n",
    "with mlflow.start_run(run_name=RUN_NAME):\n",
    "    mlflow.log_param(\"data_url\",data_url)\n",
    "    mlflow.log_param(\"data_version\",version)\n",
    "    mlflow.log_param(\"input_rows\",df.shape[0])\n",
    "    mlflow.log_param(\"input_cols\",df.shape[1])\n",
    "    #model fitting and training\n",
    "    model=LogisticRegression()\n",
    "    model.fit(X_resampled,y_resampled)\n",
    "    predicted=model.predict(X_test)\n",
    "    precision,recall,fscore,support=score(y_test,predicted,average='macro')\n",
    "    mlflow.log_metric(\"Precision_test\",precision)\n",
    "    mlflow.log_metric(\"Recall_test\",recall)\n",
    "    mlflow.log_metric(\"F1_score_test\",fscore)"
   ]
  },
  {
   "cell_type": "markdown",
   "id": "c051b292",
   "metadata": {},
   "source": [
    "## Model evaluation :\n",
    "### Evaluation metrics:\n",
    "* **Precision:** \n",
    "Precision is one indicator of the quality of the positive predictions\n",
    "made by the model. **Of all the positive predictions I made, how many of them are truly positive?** \\\n",
    "Precision is defined as follows:"
   ]
  },
  {
   "cell_type": "code",
   "execution_count": null,
   "id": "22401614",
   "metadata": {},
   "outputs": [],
   "source": [
    "Image(filename=\"images/Precision.png\")"
   ]
  },
  {
   "cell_type": "markdown",
   "id": "0db7f053",
   "metadata": {},
   "source": [
    "**Remark:**\n",
    " * A true positive (TP) is an outcome where the model correctly\n",
    "predicts the positive class. Similarly, a true negative (TN) is\n",
    "an outcome where the model correctly predicts the negative class.\n",
    " * A false positive (FP) is an outcome where the model incorrectly\n",
    "predicts the positive class. And a false negative (FN) is an\n",
    "outcome where the model incorrectly predicts the negative class."
   ]
  },
  {
   "cell_type": "markdown",
   "id": "11c8cd52",
   "metadata": {},
   "source": [
    "* **Recall:**\n",
    "Recall, a commonly used performance metric for classification models,\n",
    "is the fraction of positives that are correctly classified,**Of all the actual positive examples out there, how many of them did I correctly predict to be positive?**"
   ]
  },
  {
   "cell_type": "code",
   "execution_count": null,
   "id": "b12b2710",
   "metadata": {},
   "outputs": [],
   "source": [
    "Image(filename=\"images/Recall.png\")"
   ]
  },
  {
   "cell_type": "markdown",
   "id": "3af0dfd3",
   "metadata": {},
   "source": [
    "* **F1-score:** To evaluate model performance comprehensively, we should examine both precision and recall. The F1 score serves as a helpful metric that considers both of them."
   ]
  },
  {
   "cell_type": "code",
   "execution_count": null,
   "id": "aec7b773",
   "metadata": {},
   "outputs": [],
   "source": [
    "Image(filename=\"images/F1_score.png\")"
   ]
  },
  {
   "cell_type": "markdown",
   "id": "112ce3dd",
   "metadata": {},
   "source": [
    "* **Accuracy:**\n",
    "    Accuracy is the number of correctly predicted data points out of all the data points."
   ]
  },
  {
   "cell_type": "code",
   "execution_count": null,
   "id": "4f5476ce",
   "metadata": {},
   "outputs": [],
   "source": [
    "Image(filename=\"images/accuracy.png\")"
   ]
  },
  {
   "cell_type": "markdown",
   "id": "95b8f48d",
   "metadata": {},
   "source": [
    "**To evaluate fraud detection models, the concepts of recall and precision are very important.Recall  meaures how many fraud cases where trully detected while precision evaluates how good the model is at generating as fewer false alarms as possible. For fraud detection, we want to prioritize high recall to leave out as few fraud cases as possible while also having a relatively high precision because too many false alarms can also be a problem!**"
   ]
  },
  {
   "cell_type": "code",
   "execution_count": null,
   "id": "e1404edf",
   "metadata": {},
   "outputs": [],
   "source": [
    "print('Classification report:\\n', classification_report(y_test, predicted))\n",
    "conf_mat = confusion_matrix(y_true=y_test, y_pred=predicted)\n",
    "print('Confusion matrix:\\n', conf_mat)\n",
    "print('Share of Non-Fraud in Test Data:', 1-round(y_test.sum()/len(y_test),4))"
   ]
  },
  {
   "cell_type": "markdown",
   "id": "2d801db7",
   "metadata": {},
   "source": [
    "**As we can see above the recall is around 75% while precision is just 6% which means there is a lot of false positives to handle.**"
   ]
  },
  {
   "cell_type": "markdown",
   "id": "bbc99beb",
   "metadata": {},
   "source": [
    "## 2. Random forest:"
   ]
  },
  {
   "cell_type": "code",
   "execution_count": null,
   "id": "81b4e1d1",
   "metadata": {},
   "outputs": [],
   "source": [
    "Image(filename=\"images/random.png\")"
   ]
  },
  {
   "cell_type": "code",
   "execution_count": null,
   "id": "ce0645e7",
   "metadata": {},
   "outputs": [],
   "source": [
    "# enable autologging\n",
    "mlflow.sklearn.autolog(registered_model_name=\"Random_Forest\")"
   ]
  },
  {
   "cell_type": "code",
   "execution_count": null,
   "id": "5d6c2976",
   "metadata": {},
   "outputs": [],
   "source": [
    "RUN_NAME = \"RandomForest\"\n",
    "with mlflow.start_run(run_name=RUN_NAME):\n",
    "    mlflow.log_param(\"data_url\",data_url)\n",
    "    mlflow.log_param(\"data_version\",version)\n",
    "    mlflow.log_param(\"input_rows\",df.shape[0])\n",
    "    mlflow.log_param(\"input_cols\",df.shape[1])\n",
    "    model2 = RandomForestClassifier(random_state=5)\n",
    "    model2.fit(X_resampled,y_resampled)\n",
    "    predicted=model2.predict(X_test)\n",
    "    precision,recall,fscore,support=score(y_test,predicted,average='macro')\n",
    "    mlflow.log_metric(\"Precision_test\",precision)\n",
    "    mlflow.log_metric(\"Recall_test\",recall)\n",
    "    mlflow.log_metric(\"F1_score_test\",fscore)"
   ]
  },
  {
   "cell_type": "code",
   "execution_count": null,
   "id": "092afa2d",
   "metadata": {},
   "outputs": [],
   "source": [
    "print('Classification report:\\n', classification_report(y_test, predicted))\n",
    "conf_mat = confusion_matrix(y_true=y_test, y_pred=predicted)\n",
    "print('Confusion matrix:\\n', conf_mat)\n",
    "print('Share of Non-Fraud in Test Data:', 1-round(y_test.sum()/len(y_test),4))"
   ]
  },
  {
   "cell_type": "markdown",
   "id": "4741492d",
   "metadata": {},
   "source": [
    "**The above metrics show that although the Random Forest model has a slightly lower recall, it has much better precision!**"
   ]
  },
  {
   "cell_type": "markdown",
   "id": "aeedb0fc",
   "metadata": {},
   "source": [
    "# Save the best model:"
   ]
  },
  {
   "cell_type": "code",
   "execution_count": null,
   "id": "a8313b38",
   "metadata": {},
   "outputs": [],
   "source": [
    "#Reading Pandas Dataframe from mlflow\n",
    "df=mlflow.search_runs(filter_string=\"metrics.F1_score_test < 1\")"
   ]
  },
  {
   "cell_type": "code",
   "execution_count": null,
   "id": "b1c4aab6",
   "metadata": {},
   "outputs": [],
   "source": [
    "run_id = df.loc[df['metrics.F1_score_test'].idxmax()]['run_id']"
   ]
  },
  {
   "cell_type": "code",
   "execution_count": null,
   "id": "0de59912",
   "metadata": {},
   "outputs": [],
   "source": [
    "model = mlflow.sklearn.load_model(\"runs:/\" + run_id + \"/model\")"
   ]
  },
  {
   "cell_type": "code",
   "execution_count": null,
   "id": "c672ccb7",
   "metadata": {},
   "outputs": [],
   "source": [
    "with open('best_model.pkl','wb') as f:\n",
    "  pickle.dump(model,f)"
   ]
  },
  {
   "cell_type": "code",
   "execution_count": null,
   "id": "0671ab27",
   "metadata": {},
   "outputs": [],
   "source": [
    "df"
   ]
  },
  {
   "cell_type": "code",
   "execution_count": null,
   "id": "42c17a99",
   "metadata": {},
   "outputs": [],
   "source": []
  }
 ],
 "metadata": {
  "kernelspec": {
   "display_name": "Python 3 (ipykernel)",
   "language": "python",
   "name": "python3"
  },
  "language_info": {
   "codemirror_mode": {
    "name": "ipython",
    "version": 3
   },
   "file_extension": ".py",
   "mimetype": "text/x-python",
   "name": "python",
   "nbconvert_exporter": "python",
   "pygments_lexer": "ipython3",
   "version": "3.9.12"
  },
  "vscode": {
   "interpreter": {
    "hash": "f47cee5ce7f0e86d1697bc830ef64d3cfed3ed1d870feb222f972fa9d7058365"
   }
  }
 },
 "nbformat": 4,
 "nbformat_minor": 5
}
